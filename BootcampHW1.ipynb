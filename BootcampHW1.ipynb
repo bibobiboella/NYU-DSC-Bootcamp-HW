{
 "cells": [
  {
   "cell_type": "code",
   "execution_count": null,
   "metadata": {},
   "outputs": [],
   "source": []
  },
  {
   "cell_type": "markdown",
   "metadata": {},
   "source": [
    "1. Write a function  count_vowels(word) that takes a word as an argument and returns the number of vowels in the word\n",
    "2. Iterate through the following list of animals and print each one in all caps.\n",
    "\n",
    "\n",
    "  animals=['tiger', 'elephant', 'monkey', 'zebra', 'panther']\n",
    "\n",
    "\n",
    "3. Write a program that iterates from 1 to 20, printing each number and whether it's odd or even.\n",
    "4. Write a function sum_of_integers(a, b) that takes two integers as input from the user and returns their sum."
   ]
  },
  {
   "cell_type": "code",
   "execution_count": 2,
   "metadata": {},
   "outputs": [
    {
     "name": "stdout",
     "output_type": "stream",
     "text": [
      "5\n"
     ]
    }
   ],
   "source": [
    "def count_vowels(word):\n",
    "    vowels = 'aeiou'\n",
    "    count = 0\n",
    "    for char in word:\n",
    "        if char in vowels:\n",
    "            count += 1\n",
    "    return count\n",
    "print(count_vowels('test the function')) #should return 5"
   ]
  },
  {
   "cell_type": "code",
   "execution_count": 3,
   "metadata": {},
   "outputs": [
    {
     "name": "stdout",
     "output_type": "stream",
     "text": [
      "TIGER\n",
      "ELEPHANT\n",
      "MONKEY\n",
      "ZEBRA\n",
      "PANTHER\n"
     ]
    }
   ],
   "source": [
    "animals=['tiger', 'elephant', 'monkey', 'zebra', 'panther']\n",
    "for word in animals:\n",
    "    print(word.upper())"
   ]
  },
  {
   "cell_type": "code",
   "execution_count": 5,
   "metadata": {},
   "outputs": [
    {
     "name": "stdout",
     "output_type": "stream",
     "text": [
      "its odd:  1\n",
      "its even:  2\n",
      "its odd:  3\n",
      "its even:  4\n",
      "its odd:  5\n",
      "its even:  6\n",
      "its odd:  7\n",
      "its even:  8\n",
      "its odd:  9\n",
      "its even:  10\n",
      "its odd:  11\n",
      "its even:  12\n",
      "its odd:  13\n",
      "its even:  14\n",
      "its odd:  15\n",
      "its even:  16\n",
      "its odd:  17\n",
      "its even:  18\n",
      "its odd:  19\n",
      "its even:  20\n"
     ]
    }
   ],
   "source": [
    "for i in range(1, 21):\n",
    "    if i%2==0:\n",
    "        print(\"its even: \", i)\n",
    "    else:\n",
    "        print(\"its odd: \", i)"
   ]
  },
  {
   "cell_type": "code",
   "execution_count": 6,
   "metadata": {},
   "outputs": [],
   "source": [
    "def sum_of_integers(a, b):\n",
    "    return a+b"
   ]
  },
  {
   "cell_type": "code",
   "execution_count": null,
   "metadata": {},
   "outputs": [],
   "source": []
  }
 ],
 "metadata": {
  "kernelspec": {
   "display_name": "base",
   "language": "python",
   "name": "python3"
  },
  "language_info": {
   "codemirror_mode": {
    "name": "ipython",
    "version": 3
   },
   "file_extension": ".py",
   "mimetype": "text/x-python",
   "name": "python",
   "nbconvert_exporter": "python",
   "pygments_lexer": "ipython3",
   "version": "3.11.4"
  }
 },
 "nbformat": 4,
 "nbformat_minor": 2
}
